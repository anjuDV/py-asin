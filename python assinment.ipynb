{
 "cells": [
  {
   "cell_type": "markdown",
   "id": "4b139d7b",
   "metadata": {},
   "source": [
    "# 1. What makes NumPy.shape() different from NumPy.size()"
   ]
  },
  {
   "cell_type": "markdown",
   "id": "c8a47a41",
   "metadata": {},
   "source": [
    "NumPy is a popular library for scientific computing in Python, which provides support for efficient array operations.\n",
    "\n",
    "NumPy.shape() and NumPy.size() are both functions used to obtain information about the dimensions of a NumPy array, but they provide different information:\n",
    "\n",
    "NumPy.shape() returns a tuple containing the dimensions of the NumPy array. For example, for a 2D array, it will return a tuple of the form (num_rows, num_cols).\n",
    "NumPy.size() returns the total number of elements in the NumPy array."
   ]
  },
  {
   "cell_type": "code",
   "execution_count": 1,
   "id": "9bd8ca68",
   "metadata": {},
   "outputs": [
    {
     "name": "stdout",
     "output_type": "stream",
     "text": [
      "(2, 3)\n",
      "6\n"
     ]
    }
   ],
   "source": [
    "import numpy as np\n",
    "\n",
    "a = np.array([[1, 2, 3], [4, 5, 6]])\n",
    "print(a.shape)\n",
    "print(a.size) \n"
   ]
  },
  {
   "cell_type": "markdown",
   "id": "53bc92fc",
   "metadata": {},
   "source": [
    "# 2. In NumPy, describe the idea of broadcasting."
   ]
  },
  {
   "cell_type": "markdown",
   "id": "2f4756cf",
   "metadata": {},
   "source": [
    "In NumPy, broadcasting is a powerful feature that allows for performing arithmetic operations between arrays with different shapes, without the need to make copies of the data or to reshape the arrays.\n",
    "\n",
    "Broadcasting is possible when the following conditions are met:\n",
    "\n",
    "1.The arrays have the same number of dimensions (or one of them is a scalar).\n",
    "2.The size of each dimension of the arrays matches or one of them is 1."
   ]
  },
  {
   "cell_type": "code",
   "execution_count": 2,
   "id": "6ddc0965",
   "metadata": {},
   "outputs": [
    {
     "name": "stdout",
     "output_type": "stream",
     "text": [
      "[[3 4 5]\n",
      " [6 7 8]]\n"
     ]
    }
   ],
   "source": [
    "import numpy as np\n",
    "\n",
    "a = np.array([[1, 2, 3], [4, 5, 6]])\n",
    "b = 2\n",
    "c = a + b\n",
    "\n",
    "print(c)\n"
   ]
  },
  {
   "cell_type": "code",
   "execution_count": 3,
   "id": "50f03138",
   "metadata": {},
   "outputs": [
    {
     "name": "stdout",
     "output_type": "stream",
     "text": [
      "[[11 22 33]\n",
      " [14 25 36]]\n"
     ]
    }
   ],
   "source": [
    "import numpy as np\n",
    "\n",
    "a = np.array([[1, 2, 3], [4, 5, 6]])\n",
    "b = np.array([10, 20, 30])\n",
    "c = a + b\n",
    "\n",
    "print(c)\n"
   ]
  },
  {
   "cell_type": "markdown",
   "id": "b0774ab8",
   "metadata": {},
   "source": [
    "# 3. What makes Python better than other libraries for numerical computation?\n"
   ]
  },
  {
   "cell_type": "markdown",
   "id": "0c65501b",
   "metadata": {},
   "source": [
    "Python is a popular programming language used in a variety of fields, including scientific computing and data analysis. While Python itself is a general-purpose language, its popularity in the field of numerical computation is largely due to its rich ecosystem of scientific computing libraries, including NumPy, SciPy, Pandas, Matplotlib, and many others.\n",
    "\n",
    "There are several factors that make Python and its scientific computing libraries a popular choice for numerical computation:\n",
    "\n",
    "1.Ease of use: Python is a high-level programming language that is easy to learn and use, which makes it accessible to a wide range of users. The syntax is simple and expressive, which allows users to focus on the problem at hand rather than worrying about low-level details.\n",
    "\n",
    "2.Interactivity: Python supports an interactive programming environment, which makes it easy to explore and manipulate data interactively. This is particularly useful in scientific computing, where users need to explore and analyze data in real-time.\n",
    "\n",
    "3.Rich ecosystem: Python has a rich ecosystem of scientific computing libraries, including NumPy, SciPy, Pandas, Matplotlib, and many others, which provide a wide range of functionality for numerical computation, data analysis, and visualization."
   ]
  },
  {
   "cell_type": "markdown",
   "id": "9c86382e",
   "metadata": {},
   "source": [
    "# 4. How does NumPy deal with files?"
   ]
  },
  {
   "cell_type": "markdown",
   "id": "d805c956",
   "metadata": {},
   "source": [
    "NumPy provides several functions for reading and writing data from and to files. The most commonly used functions for this purpose are np.load(), np.save(), np.loadtxt(), and np.savetxt()."
   ]
  },
  {
   "cell_type": "code",
   "execution_count": null,
   "id": "aad93898",
   "metadata": {},
   "outputs": [],
   "source": [
    "import numpy as np\n",
    "\n",
    "data = np.load('data.npy')\n"
   ]
  },
  {
   "cell_type": "code",
   "execution_count": null,
   "id": "ef816e7d",
   "metadata": {},
   "outputs": [],
   "source": [
    "import numpy as np\n",
    "\n",
    "data = np.array([[1, 2, 3], [4, 5, 6]])\n",
    "np.save('data.npy', data)\n"
   ]
  },
  {
   "cell_type": "markdown",
   "id": "047d2498",
   "metadata": {},
   "source": [
    "# 5. Mention the importance of NumPy.empty()"
   ]
  },
  {
   "cell_type": "markdown",
   "id": "abbd6135",
   "metadata": {},
   "source": [
    "he NumPy empty() function is used to create an uninitialized NumPy array with a specified shape and data type. The array is not initialized with any specific values, and its contents are random and depend on the state of the memory at the time the array is created.\n",
    "\n",
    "The empty() function is useful when you need to create a NumPy array with a specific shape and data type, but you don't need to initialize it with any particular values. This can be useful when you plan to fill the array with data later, or when you need to allocate memory for an array without initializing it."
   ]
  },
  {
   "cell_type": "code",
   "execution_count": 6,
   "id": "0ef94407",
   "metadata": {},
   "outputs": [],
   "source": [
    "import numpy as np\n",
    "\n",
    "# Create an uninitialized 2D array with shape (3, 4) and data type float64\n",
    "a = np.empty((3, 4), dtype=np.float64)\n"
   ]
  },
  {
   "cell_type": "code",
   "execution_count": null,
   "id": "1d9cba25",
   "metadata": {},
   "outputs": [],
   "source": []
  }
 ],
 "metadata": {
  "kernelspec": {
   "display_name": "Python 3 (ipykernel)",
   "language": "python",
   "name": "python3"
  },
  "language_info": {
   "codemirror_mode": {
    "name": "ipython",
    "version": 3
   },
   "file_extension": ".py",
   "mimetype": "text/x-python",
   "name": "python",
   "nbconvert_exporter": "python",
   "pygments_lexer": "ipython3",
   "version": "3.9.13"
  }
 },
 "nbformat": 4,
 "nbformat_minor": 5
}
